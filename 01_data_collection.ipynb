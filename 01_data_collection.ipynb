{
 "cells": [
  {
   "cell_type": "markdown",
   "id": "54429189-5bbf-4779-b3d2-4d2a65f37707",
   "metadata": {},
   "source": [
    "# Imports for Data Collection"
   ]
  },
  {
   "cell_type": "code",
   "execution_count": 33,
   "id": "89bde3e3-3558-4e91-9ade-6eb0836a75f1",
   "metadata": {},
   "outputs": [],
   "source": [
    "import json\n",
    "import pandas as pd\n",
    "from google_play_scraper import Sort, reviews_all, app\n",
    "from datetime import datetime\n",
    "from tqdm import tqdm"
   ]
  },
  {
   "cell_type": "markdown",
   "id": "8ef88d90-627c-44c6-8927-50baef4f9c25",
   "metadata": {},
   "source": [
    "# Meta: fetch app info (store metadata)"
   ]
  },
  {
   "cell_type": "code",
   "execution_count": 35,
   "id": "812d0058-2c87-4355-ab7e-530910a5ad56",
   "metadata": {},
   "outputs": [
    {
     "name": "stdout",
     "output_type": "stream",
     "text": [
      "Safari City: Renovate & Design 100,000+ 0 100000 [0, 0, 0, 0, 0]\n"
     ]
    }
   ],
   "source": [
    "\n",
    "app_id = \"com.maliyo.safaricity\"\n",
    "info = app(app_id, lang='en', country='us')\n",
    "print(info['title'], info['installs'], info['score'], info['minInstalls'], info['histogram'])\n"
   ]
  },
  {
   "cell_type": "markdown",
   "id": "fa87e156-063c-4fe9-ac68-aaf801ee3c0a",
   "metadata": {},
   "source": [
    "Safari City boasts over 100,000 downloads in the Google Play store."
   ]
  },
  {
   "cell_type": "markdown",
   "id": "fe8b7fee-f40f-43c6-bd2c-ba74bf69cfb0",
   "metadata": {},
   "source": [
    "# Fetching all public reviews"
   ]
  },
  {
   "cell_type": "code",
   "execution_count": 58,
   "id": "1cc0d41c-6cea-41b6-b483-bfade6f9427d",
   "metadata": {},
   "outputs": [],
   "source": [
    "# Save raw to data/play_store_raw/safari_reviews.json\n",
    "reviews = reviews_all(\n",
    "    app_id,\n",
    "    lang='en',         # language\n",
    "    country='us',      # country code\n",
    "    sleep_milliseconds=0, \n",
    "    sort=Sort.NEWEST  # get newest first\n",
    ")"
   ]
  },
  {
   "cell_type": "markdown",
   "id": "085d94d1-6afc-451b-8052-b1a0a0eb38b5",
   "metadata": {},
   "source": [
    "# Saving reviews to file"
   ]
  },
  {
   "cell_type": "code",
   "execution_count": 60,
   "id": "841bbdff-94dc-4937-ac00-57b3cbd45856",
   "metadata": {},
   "outputs": [],
   "source": [
    "\n",
    "\n",
    "from datetime import datetime\n",
    "\n",
    "def default_serializer(obj):\n",
    "    if isinstance(obj, datetime):\n",
    "        return obj.isoformat()  # or str(obj)\n",
    "    raise TypeError(f\"Type {type(obj)} not serializable\")\n",
    "\n",
    "with open(\"data/play_store_raw/safari_reviews.json\", \"w\", encoding=\"utf-8\") as f:\n",
    "    json.dump(reviews, f, ensure_ascii=False, indent=2, default=default_serializer)\n"
   ]
  },
  {
   "cell_type": "markdown",
   "id": "ae961259-aa47-4f2b-bc3c-3ce657e21285",
   "metadata": {},
   "source": [
    "# Loading and Displaying results"
   ]
  },
  {
   "cell_type": "code",
   "execution_count": 61,
   "id": "6b9e5e44-2c42-42a3-9b12-6572da4e277c",
   "metadata": {},
   "outputs": [
    {
     "data": {
      "text/html": [
       "<div>\n",
       "<style scoped>\n",
       "    .dataframe tbody tr th:only-of-type {\n",
       "        vertical-align: middle;\n",
       "    }\n",
       "\n",
       "    .dataframe tbody tr th {\n",
       "        vertical-align: top;\n",
       "    }\n",
       "\n",
       "    .dataframe thead th {\n",
       "        text-align: right;\n",
       "    }\n",
       "</style>\n",
       "<table border=\"1\" class=\"dataframe\">\n",
       "  <thead>\n",
       "    <tr style=\"text-align: right;\">\n",
       "      <th></th>\n",
       "      <th>reviewId</th>\n",
       "      <th>userName</th>\n",
       "      <th>userImage</th>\n",
       "      <th>review_text</th>\n",
       "      <th>rating</th>\n",
       "      <th>thumbsUpCount</th>\n",
       "      <th>reviewCreatedVersion</th>\n",
       "      <th>review_date</th>\n",
       "      <th>replyContent</th>\n",
       "      <th>repliedAt</th>\n",
       "    </tr>\n",
       "  </thead>\n",
       "  <tbody>\n",
       "    <tr>\n",
       "      <th>0</th>\n",
       "      <td>5347c6c2-c97d-4c59-b838-af3603c528d8</td>\n",
       "      <td>Keeen Rose</td>\n",
       "      <td>https://play-lh.googleusercontent.com/a/ACg8oc...</td>\n",
       "      <td>can you please let me play to play</td>\n",
       "      <td>5</td>\n",
       "      <td>0</td>\n",
       "      <td>None</td>\n",
       "      <td>2025-09-27 01:27:24</td>\n",
       "      <td>None</td>\n",
       "      <td>NaT</td>\n",
       "    </tr>\n",
       "    <tr>\n",
       "      <th>1</th>\n",
       "      <td>e7441940-ddfa-4079-ac57-30e8cbc5c9b4</td>\n",
       "      <td>Nmesoma Uzomah</td>\n",
       "      <td>https://play-lh.googleusercontent.com/a/ACg8oc...</td>\n",
       "      <td>I love the characters and the game graphics. T...</td>\n",
       "      <td>4</td>\n",
       "      <td>0</td>\n",
       "      <td>None</td>\n",
       "      <td>2025-09-19 18:31:43</td>\n",
       "      <td>None</td>\n",
       "      <td>NaT</td>\n",
       "    </tr>\n",
       "    <tr>\n",
       "      <th>2</th>\n",
       "      <td>6b0f1057-b646-432f-9bfd-282846591a45</td>\n",
       "      <td>Rotimi AdeOnojobi</td>\n",
       "      <td>https://play-lh.googleusercontent.com/a-/ALV-U...</td>\n",
       "      <td>We're thinking About it</td>\n",
       "      <td>5</td>\n",
       "      <td>0</td>\n",
       "      <td>2.3.7</td>\n",
       "      <td>2025-09-13 16:51:02</td>\n",
       "      <td>We're sure by now you can't get enough of Safa...</td>\n",
       "      <td>2025-09-15 09:53:32</td>\n",
       "    </tr>\n",
       "    <tr>\n",
       "      <th>3</th>\n",
       "      <td>e186c224-0153-418d-8e0d-3927f423907f</td>\n",
       "      <td>Kayode Odunuga</td>\n",
       "      <td>https://play-lh.googleusercontent.com/a/ACg8oc...</td>\n",
       "      <td>awesome</td>\n",
       "      <td>5</td>\n",
       "      <td>0</td>\n",
       "      <td>2.3.7</td>\n",
       "      <td>2025-09-13 16:10:50</td>\n",
       "      <td>You're awesome too. Thanks so much for giving ...</td>\n",
       "      <td>2025-09-15 09:50:38</td>\n",
       "    </tr>\n",
       "    <tr>\n",
       "      <th>4</th>\n",
       "      <td>ddaa6ea3-3d22-4e39-aa30-9d118f2a0d90</td>\n",
       "      <td>Opeyemi Bakare</td>\n",
       "      <td>https://play-lh.googleusercontent.com/a/ACg8oc...</td>\n",
       "      <td>fantastic</td>\n",
       "      <td>5</td>\n",
       "      <td>0</td>\n",
       "      <td>2.3.7</td>\n",
       "      <td>2025-09-13 15:46:55</td>\n",
       "      <td>Thank you, Opeyemi. You’re fantastic for leavi...</td>\n",
       "      <td>2025-09-15 09:44:55</td>\n",
       "    </tr>\n",
       "  </tbody>\n",
       "</table>\n",
       "</div>"
      ],
      "text/plain": [
       "                               reviewId           userName  \\\n",
       "0  5347c6c2-c97d-4c59-b838-af3603c528d8         Keeen Rose   \n",
       "1  e7441940-ddfa-4079-ac57-30e8cbc5c9b4     Nmesoma Uzomah   \n",
       "2  6b0f1057-b646-432f-9bfd-282846591a45  Rotimi AdeOnojobi   \n",
       "3  e186c224-0153-418d-8e0d-3927f423907f     Kayode Odunuga   \n",
       "4  ddaa6ea3-3d22-4e39-aa30-9d118f2a0d90     Opeyemi Bakare   \n",
       "\n",
       "                                           userImage  \\\n",
       "0  https://play-lh.googleusercontent.com/a/ACg8oc...   \n",
       "1  https://play-lh.googleusercontent.com/a/ACg8oc...   \n",
       "2  https://play-lh.googleusercontent.com/a-/ALV-U...   \n",
       "3  https://play-lh.googleusercontent.com/a/ACg8oc...   \n",
       "4  https://play-lh.googleusercontent.com/a/ACg8oc...   \n",
       "\n",
       "                                         review_text  rating  thumbsUpCount  \\\n",
       "0                 can you please let me play to play       5              0   \n",
       "1  I love the characters and the game graphics. T...       4              0   \n",
       "2                            We're thinking About it       5              0   \n",
       "3                                            awesome       5              0   \n",
       "4                                          fantastic       5              0   \n",
       "\n",
       "  reviewCreatedVersion         review_date  \\\n",
       "0                 None 2025-09-27 01:27:24   \n",
       "1                 None 2025-09-19 18:31:43   \n",
       "2                2.3.7 2025-09-13 16:51:02   \n",
       "3                2.3.7 2025-09-13 16:10:50   \n",
       "4                2.3.7 2025-09-13 15:46:55   \n",
       "\n",
       "                                        replyContent           repliedAt  \n",
       "0                                               None                 NaT  \n",
       "1                                               None                 NaT  \n",
       "2  We're sure by now you can't get enough of Safa... 2025-09-15 09:53:32  \n",
       "3  You're awesome too. Thanks so much for giving ... 2025-09-15 09:50:38  \n",
       "4  Thank you, Opeyemi. You’re fantastic for leavi... 2025-09-15 09:44:55  "
      ]
     },
     "execution_count": 61,
     "metadata": {},
     "output_type": "execute_result"
    }
   ],
   "source": [
    "df = pd.json_normalize(reviews)\n",
    "df = df[['reviewId','userName','userImage','content','score','thumbsUpCount','reviewCreatedVersion','at','replyContent','repliedAt']]\n",
    "df.rename(columns={'content':'review_text','score':'rating','at':'review_date'}, inplace=True)\n",
    "df['review_date'] = pd.to_datetime(df['review_date'])\n",
    "df.to_csv(\"data/play_store_raw/safari_reviews_sample.csv\", index=False)\n",
    "df.head()"
   ]
  }
 ],
 "metadata": {
  "kernelspec": {
   "display_name": "Python 3 (ipykernel)",
   "language": "python",
   "name": "python3"
  },
  "language_info": {
   "codemirror_mode": {
    "name": "ipython",
    "version": 3
   },
   "file_extension": ".py",
   "mimetype": "text/x-python",
   "name": "python",
   "nbconvert_exporter": "python",
   "pygments_lexer": "ipython3",
   "version": "3.13.5"
  }
 },
 "nbformat": 4,
 "nbformat_minor": 5
}
